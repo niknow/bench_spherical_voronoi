{
 "cells": [
  {
   "cell_type": "code",
   "execution_count": 1,
   "metadata": {
    "collapsed": false
   },
   "outputs": [],
   "source": [
    "#compare spherical Voronoi performance of my personal repo against the latest commit of the scipy fork (hash: c7a35c)\n",
    "import sys; sys.path.append('/Users/treddy/github_projects/py_sphere_Voronoi')\n",
    "import voronoi_utility\n",
    "import scipy\n",
    "import numpy as np\n",
    "import matplotlib.pyplot as plt\n",
    "%matplotlib inline\n",
    "%load_ext autoreload\n",
    "%autoreload 2"
   ]
  },
  {
   "cell_type": "code",
   "execution_count": 6,
   "metadata": {
    "collapsed": true
   },
   "outputs": [],
   "source": [
    "dictionary_spherical_Voronoi_performance_profiles = {}\n"
   ]
  },
  {
   "cell_type": "code",
   "execution_count": 7,
   "metadata": {
    "collapsed": false
   },
   "outputs": [
    {
     "name": "stdout",
     "output_type": "stream",
     "text": [
      "generator_count: 10 processed.\n",
      "generator_count: 100 processed.\n",
      "generator_count: 1000 processed.\n",
      "generator_count: 5000 processed.\n",
      "generator_count: 10000 processed.\n",
      "generator_count: 15000 processed.\n",
      "generator_count: 20000 processed.\n",
      "generator_count: 25000 processed.\n",
      "generator_count: 27500 processed.\n",
      "generator_count: 32000 processed.\n",
      "generator_count: 40000 processed.\n",
      "generator_count: 50000 processed.\n",
      "generator_count: 60000 processed.\n",
      "generator_count: 70000 processed.\n"
     ]
    }
   ],
   "source": [
    "#for the old code in my personal repo\n",
    "import math\n",
    "import time\n",
    "array_generator_counts = np.array([10,100,1000,5000,10000,15000,20000,25000, 27500, 32000, 40000, 50000, 60000, 70000]) #getting crashes at large numbers of generators\n",
    "prng = np.random.RandomState(117)\n",
    "center = np.zeros(3)\n",
    "\n",
    "for generator_count in array_generator_counts:\n",
    "    current_array_random_generators = voronoi_utility.generate_random_array_spherical_generators(generator_count,1.0,prng)\n",
    "    current_Voronoi_instance = voronoi_utility.Voronoi_Sphere_Surface(current_array_random_generators,1.0)\n",
    "    \n",
    "    start_time = time.time()\n",
    "    dict_generators_and_voronoi_regions = current_Voronoi_instance.voronoi_region_vertices_spherical_surface()\n",
    "    end_time = time.time()\n",
    "    time_to_produce_voronoi_regions = end_time - start_time\n",
    "\n",
    "    dictionary_spherical_Voronoi_performance_profiles[generator_count] = {}\n",
    "    dictionary_spherical_Voronoi_performance_profiles[generator_count]['time_to_produce_voronoi_regions'] = time_to_produce_voronoi_regions\n",
    "    \n",
    "    print 'generator_count:', generator_count, 'processed.'"
   ]
  },
  {
   "cell_type": "code",
   "execution_count": 10,
   "metadata": {
    "collapsed": false
   },
   "outputs": [
    {
     "name": "stdout",
     "output_type": "stream",
     "text": [
      "generator_count: 10 processed.\n",
      "generator_count: 100 processed.\n",
      "generator_count: 1000 processed.\n",
      "generator_count: 5000 processed.\n",
      "generator_count: 10000 processed.\n",
      "generator_count: 15000 processed.\n"
     ]
    }
   ],
   "source": [
    "import time\n",
    "array_generator_counts = np.array([10,100,1000,5000,10000,15000]) #much shorter list for SLOWER performing scipy code for now\n",
    "prng = np.random.RandomState(117)\n",
    "center = np.zeros(3)\n",
    "from scipy.spatial import SphericalVoronoi\n",
    "\n",
    "for generator_count in array_generator_counts:\n",
    "    current_array_random_generators = voronoi_utility.generate_random_array_spherical_generators(generator_count,1.0,prng)\n",
    "    \n",
    "    #for the new code in my scipy fork\n",
    "    start_time = time.time()\n",
    "    sv = SphericalVoronoi(current_array_random_generators, 1.0, center) #calculates unsorted regions\n",
    "    sv.sort_vertices_of_regions() #sorted regions produced \n",
    "    #list_sorted_voronoi_regions_scipy_fork = sv.regions #commenting in case this assignment is slowing doing the new scipy bench unfairly\n",
    "    end_time = time.time()\n",
    "    time_to_produce_voronoi_regions_scipy_fork = end_time - start_time\n",
    "    \n",
    "    dictionary_spherical_Voronoi_performance_profiles[generator_count]['time_to_produce_voronoi_regions_scipy_fork'] = time_to_produce_voronoi_regions_scipy_fork\n",
    "    \n",
    "    print 'generator_count:', generator_count, 'processed.'"
   ]
  },
  {
   "cell_type": "code",
   "execution_count": 22,
   "metadata": {
    "collapsed": false
   },
   "outputs": [
    {
     "data": {
      "text/plain": [
       "<matplotlib.legend.Legend at 0x111efcbd0>"
      ]
     },
     "execution_count": 22,
     "metadata": {},
     "output_type": "execute_result"
    },
    {
     "data": {
      "image/png": "[encoded data removed]",
      "text/plain": [
       "<matplotlib.figure.Figure at 0x110723250>"
      ]
     },
     "metadata": {},
     "output_type": "display_data"
    }
   ],
   "source": [
    "#produce a plot of the performance results (i.e., empirical assessment of O(n))\n",
    "array_generator_counts = np.array([10,100,1000,5000,10000,15000,20000,25000, 27500, 32000, 40000, 50000, 60000, 70000]) \n",
    "array_generator_counts_scipy_fork = np.array([10,100,1000,5000,10000,15000]) \n",
    "import scipy.optimize\n",
    "import matplotlib.ticker as mtick\n",
    "fig_performance = plt.figure()\n",
    "ax = fig_performance.add_subplot('111')\n",
    "\n",
    "def quadratic(n, K):\n",
    "    '''Quadratic fit with K as the constant.'''\n",
    "    return K * (n ** 2)\n",
    "\n",
    "y_data = []\n",
    "y_data_scipy = []\n",
    "for value in array_generator_counts:\n",
    "    y_data.append(dictionary_spherical_Voronoi_performance_profiles[value]['time_to_produce_voronoi_regions'])\n",
    "    if value <= 15000:\n",
    "        y_data_scipy.append(dictionary_spherical_Voronoi_performance_profiles[value]['time_to_produce_voronoi_regions_scipy_fork'])\n",
    "\n",
    "for generator_count, subdictionary in dictionary_spherical_Voronoi_performance_profiles.iteritems():\n",
    "    time_to_produce_Voronoi_regions = subdictionary['time_to_produce_voronoi_regions']\n",
    "    ax.scatter(generator_count, time_to_produce_Voronoi_regions, edgecolor = 'none', c = 'k')\n",
    "    if generator_count <= 15000:\n",
    "        time_to_produce_Voronoi_regions_scipy = subdictionary['time_to_produce_voronoi_regions_scipy_fork']\n",
    "        ax.scatter(generator_count, time_to_produce_Voronoi_regions_scipy, edgecolor = 'none', c = 'blue')\n",
    "        \n",
    "    \n",
    "K_quadratic, pcov_quadratic = scipy.optimize.curve_fit(quadratic, array_generator_counts, y_data)\n",
    "K_quadratic_scipy, pcov_quadratic_scipy = scipy.optimize.curve_fit(quadratic, array_generator_counts_scipy_fork, y_data_scipy)\n",
    "\n",
    "ax.set_xlabel('# generators')\n",
    "ax.set_ylabel('Time to produce sorted Voronoi regions (s)')\n",
    "ax.set_xlim(-10,72000)\n",
    "#ax.set_ylim(-2,150)\n",
    "ax.set_title('Empirical Assessment of O(n)\\n[quadratic time complexity non-linear fits shown]')\n",
    "\n",
    "#plot the fit to the data for performance model(s)\n",
    "sample_x_data = np.linspace(5,72000,num = 50)\n",
    "sample_x_data_scipy = np.linspace(5,20000,num = 30)\n",
    "ax.set_xticks([0,20000,40000, 60000])\n",
    "sample_y_data_quadratic = quadratic(sample_x_data, K_quadratic[0])\n",
    "sample_y_data_quadratic_scipy = quadratic(sample_x_data_scipy, K_quadratic_scipy[0])\n",
    "ax.plot(sample_x_data, sample_y_data_quadratic, c = 'purple', label = 'personal repo code', alpha = 0.5, lw = 2)\n",
    "ax.plot(sample_x_data_scipy, sample_y_data_quadratic_scipy, c = 'green', label = 'scipy fork hash: c7a35c', alpha = 0.5, lw = 2)\n",
    "ax.legend(loc = 1)"
   ]
  },
  {
   "cell_type": "code",
   "execution_count": 23,
   "metadata": {
    "collapsed": false
   },
   "outputs": [],
   "source": [
    "fig_performance.savefig('performance_spherical_voronoi.png', dpi = 300)"
   ]
  }
 ],
 "metadata": {
  "kernelspec": {
   "display_name": "Python 2",
   "language": "python",
   "name": "python2"
  },
  "language_info": {
   "codemirror_mode": {
    "name": "ipython",
    "version": 2
   },
   "file_extension": ".py",
   "mimetype": "text/x-python",
   "name": "python",
   "nbconvert_exporter": "python",
   "pygments_lexer": "ipython2",
   "version": "2.7.10"
  }
 },
 "nbformat": 4,
 "nbformat_minor": 0
}
